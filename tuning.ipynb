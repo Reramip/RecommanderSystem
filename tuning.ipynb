{
 "cells": [
  {
   "cell_type": "code",
   "execution_count": 22,
   "metadata": {},
   "outputs": [],
   "source": [
    "import numpy as np\n",
    "import pandas as pd\n",
    "np.random.seed(7)"
   ]
  },
  {
   "cell_type": "code",
   "execution_count": 2,
   "metadata": {},
   "outputs": [],
   "source": [
    "def preprocessRatings(path):\n",
    "    origSet = np.loadtxt(path, delimiter=\"::\")\n",
    "\n",
    "    users = np.unique(origSet[:, 0])\n",
    "    items = np.unique(origSet[:, 1])\n",
    "\n",
    "    trainingSet, validationSet, testSet = divideDataSet(origSet)\n",
    "\n",
    "    trainingSet = sortDataSet(trainingSet)\n",
    "    validationSet = sortDataSet(validationSet)\n",
    "    testSet = sortDataSet(testSet)\n",
    "\n",
    "    trainingRatingMatrix = getRatingMatrix(trainingSet, users, items)\n",
    "    validationRatingMatrix = getRatingMatrix(validationSet, users, items)\n",
    "    testRatingMatrix = getRatingMatrix(testSet, users, items)\n",
    "\n",
    "    return trainingRatingMatrix, validationRatingMatrix, testRatingMatrix, users, items\n",
    "\n",
    "\n",
    "def divideDataSet(origSet):\n",
    "    np.random.shuffle(origSet)  # 打乱数据集，进行划分\n",
    "\n",
    "    trainLength = int(0.8 * origSet.shape[0])  # 训练集 8\n",
    "    validationLength = int(0.1 * origSet.shape[0])  # 验证集 1\n",
    "\n",
    "    trainingSet = origSet[0:trainLength]  # 8\n",
    "    validationSet = origSet[trainLength:trainLength + validationLength]  # 1\n",
    "    testSet = origSet[trainLength + validationLength:]  # 1\n",
    "\n",
    "    return trainingSet, validationSet, testSet\n",
    "\n",
    "\n",
    "def sortDataSet(dataSet):  # 时间戳从小到大排序\n",
    "    return dataSet[np.argsort(dataSet[:, 3])]\n",
    "\n",
    "\n",
    "def getRatingMatrix(dataset, users, items):\n",
    "    ratingMatrixDF = pd.DataFrame(index=users, columns=items)\n",
    "    for i in range(dataset.shape[0]):\n",
    "        ratingMatrixDF.at[dataset[i][0], dataset[i][1]] = dataset[i][2]\n",
    "    ratingMatrixDF = ratingMatrixDF.fillna(0)\n",
    "    return ratingMatrixDF.values\n"
   ]
  },
  {
   "cell_type": "code",
   "execution_count": 3,
   "metadata": {},
   "outputs": [],
   "source": [
    "\n",
    "def train(trainingRatingMatrix, validationRatingMatrix, K, alpha, beta, epochs):\n",
    "    \"\"\"\n",
    "    :param trainingRatingMatrix:训练集评分矩阵\n",
    "    :param validationRatingMatrix:验证集评分矩阵\n",
    "    :param K:维度\n",
    "    :param alpha:学习率\n",
    "    :param beta:惩罚系数\n",
    "    :param epochs:迭代上限\n",
    "    \"\"\"\n",
    "    userMatrix, itemMatrix = matrixFactorize(trainingRatingMatrix,\n",
    "                                             K=K,\n",
    "                                             alpha=alpha,\n",
    "                                             beta=beta,\n",
    "                                             epochs=epochs\n",
    "                                             )\n",
    "\n",
    "    predictedRatingMatrix = predict(userMatrix, itemMatrix)\n",
    "\n",
    "    mseValidation = evaluate(predictedRatingMatrix, validationRatingMatrix)\n",
    "\n",
    "    return {\"userMatrix\": userMatrix,\n",
    "            \"itemMatrix\": itemMatrix,\n",
    "            \"predictedRatingMatrix\": predictedRatingMatrix,\n",
    "            \"mseValidation\": mseValidation,\n",
    "            \"K\": K,\n",
    "            \"alpha\": alpha,\n",
    "            \"beta\": beta,\n",
    "            \"epochs\": epochs}\n",
    "\n",
    "\n",
    "def matrixFactorize(origMatrix, K=3, alpha=0.01, beta=0.01, epochs=100000):\n",
    "    \"\"\"\n",
    "    :param origMatrix:待分解矩阵\n",
    "    :param K:维度\n",
    "    :param alpha:学习率\n",
    "    :param beta:惩罚系数\n",
    "    :param epochs:迭代上限\n",
    "    \"\"\"\n",
    "    # 初始化\n",
    "    M = origMatrix.shape[0]  # 矩阵大小M*N\n",
    "    N = origMatrix.shape[1]\n",
    "    U = np.random.random((M, K))  # 用户矩阵大小M*K\n",
    "    V = np.random.random((K, N))  # 物品矩阵大小K*N\n",
    "    loss = 0.  # 损失\n",
    "    nonzeroNumbers = origMatrix[origMatrix > 0].shape[0]  # 矩阵中有效值数目\n",
    "    index = origMatrix.nonzero()\n",
    "\n",
    "    # FunkSVD\n",
    "    # loss(u_ik,v_kj)=(r_ij-sum(k=1->K, u_ik*v_kj))**2 +\n",
    "    #                   beta/2*sum(l=1->K, u_ik**2+v_kj**2)\n",
    "    # 随机梯度下降求解，令e=r_ij-sum(l=1->K, u_ik*v_kj)=r_ij-rHat_ij\n",
    "    # Gu_loss=-2e_ij*v_kj+beta*u_ik\n",
    "    # Gv_loss=-2e_ij*u_ik+beta*v_kj\n",
    "    # 迭代u_il-=Gu_loss, v_lj-=Gv_loss\n",
    "    for epoch in range(epochs):\n",
    "        ndx = np.random.choice(nonzeroNumbers)\n",
    "        # 更新 U,V矩阵\n",
    "        i = index[0][ndx]\n",
    "        j = index[1][ndx]\n",
    "        r = origMatrix[i, j]\n",
    "        Ui = U[i, :]\n",
    "        Vj = V[:, j]\n",
    "        rHat = np.sum(np.dot(Ui, Vj))  # 矩阵化计算\n",
    "        e = r - rHat\n",
    "        for k in range(K):  # 更新一行/一列\n",
    "            Gu = beta * U[i, k] - 2 * e * V[k, j]\n",
    "            Gv = beta * V[k, j] - 2 * e * U[i, k]\n",
    "            U[i, k] -= alpha * Gu\n",
    "            V[k, j] -= alpha * Gv\n",
    "\n",
    "        # 计算损失\n",
    "        loss = 0.\n",
    "        reg = np.sum(Ui ** 2) + np.sum(Vj ** 2)\n",
    "        e = r - rHat\n",
    "        loss += e ** 2 + beta * reg / 2\n",
    "\n",
    "        if epoch % int((epochs / 10)) == 0:\n",
    "            print(\"loss={} at epoch {}\".format(loss, epoch))\n",
    "        epoch += 1\n",
    "    print(\"loss={} at epoch {}\".format(loss, epochs))\n",
    "    return U, V\n",
    "\n",
    "\n",
    "def predict(userMatrix, itemMatrix):\n",
    "    return np.dot(userMatrix, itemMatrix)\n"
   ]
  },
  {
   "cell_type": "code",
   "execution_count": 42,
   "metadata": {},
   "outputs": [],
   "source": [
    "def addResultToHistory(history, result):\n",
    "    history.append(result)\n",
    "    updateHistory(history)\n",
    "\n",
    "\n",
    "def updateHistory(history):\n",
    "    if len(history) > 2:\n",
    "        newMseValidation = history[len(history) - 1][\"mseValidation\"]\n",
    "        if newMseValidation < history[history[0]][\"mseValidation\"]:\n",
    "            history[0] = len(history) - 1\n",
    "    else:\n",
    "        history[0] = 1\n",
    "\n",
    "\n",
    "def printBestHistory(history):\n",
    "    print(\"\\n**BEST: K={}, alpha={}, beta={}, epochs={}\"\n",
    "          .format(history[history[0]][\"K\"],\n",
    "                  history[history[0]][\"alpha\"],\n",
    "                  history[history[0]][\"beta\"],\n",
    "                  history[history[0]][\"epochs\"]))\n"
   ]
  },
  {
   "cell_type": "code",
   "execution_count": 43,
   "metadata": {},
   "outputs": [],
   "source": [
    "def evaluate(predictedRatingMatrix, testRatingMatrix):\n",
    "    testValues = testRatingMatrix[testRatingMatrix > 0]\n",
    "\n",
    "    tempMatrix = testRatingMatrix.copy()\n",
    "    tempMatrix[tempMatrix == 0] = -999\n",
    "    tempMatrix[tempMatrix > 0] = 0\n",
    "\n",
    "    compareRatingMatrix = predictedRatingMatrix + tempMatrix\n",
    "    compareValues = compareRatingMatrix[compareRatingMatrix >= 0]\n",
    "\n",
    "    mse = np.sum((testValues - compareValues) ** 2) / testValues.shape[0]\n",
    "    print(\"MSE={}\".format(mse))\n",
    "    return mse\n",
    "\n",
    "\n",
    "def evaluateBestFromHistory(history, testRatingMatrix):\n",
    "    return evaluate(history[history[0]][\"predictedRatingMatrix\"], testRatingMatrix)\n"
   ]
  },
  {
   "cell_type": "code",
   "execution_count": 7,
   "metadata": {},
   "outputs": [],
   "source": [
    "trainingRatingMatrix, validationRatingMatrix, testRatingMatrix, users, items = \\\n",
    "        preprocessRatings(\"./data/ml-1m/ratings.dat\")"
   ]
  },
  {
   "cell_type": "code",
   "execution_count": 44,
   "metadata": {},
   "outputs": [],
   "source": [
    "history = [-1]  # 保存历史记录，首项表示最佳结果在列表中的位置"
   ]
  },
  {
   "cell_type": "code",
   "execution_count": 45,
   "metadata": {},
   "outputs": [
    {
     "name": "stdout",
     "output_type": "stream",
     "text": [
      "loss=17.222756879480823 at epoch 0\n",
      "loss=9.121706310166145 at epoch 1000\n",
      "loss=3.331996322384145 at epoch 2000\n",
      "loss=9.235022816296775 at epoch 3000\n",
      "loss=5.125688357567351 at epoch 4000\n",
      "loss=10.408921792125573 at epoch 5000\n",
      "loss=13.151825395447638 at epoch 6000\n",
      "loss=12.160840694757791 at epoch 7000\n",
      "loss=11.738952885836724 at epoch 8000\n",
      "loss=4.7445752748265555 at epoch 9000\n",
      "loss=0.10037310526502088 at epoch 10000\n",
      "MSE=6.58847978735136\n",
      "\n",
      "**BEST: K=3, alpha=0.01, beta=0.1, epochs=10000\n"
     ]
    }
   ],
   "source": [
    "# 试运行\n",
    "addResultToHistory(history, train(trainingRatingMatrix, validationRatingMatrix,\n",
    "                                      K=3,\n",
    "                                      alpha=0.01,\n",
    "                                      beta=0.1,\n",
    "                                      epochs=10000))\n",
    "printBestHistory(history)"
   ]
  },
  {
   "cell_type": "code",
   "execution_count": 46,
   "metadata": {},
   "outputs": [],
   "source": [
    "# 简化为函数\n",
    "def tuning(K, alpha, beta, epochs):\n",
    "    addResultToHistory(history, train(trainingRatingMatrix, validationRatingMatrix,\n",
    "                                      K=K,\n",
    "                                      alpha=alpha,\n",
    "                                      beta=beta,\n",
    "                                      epochs=epochs))\n",
    "    printBestHistory(history)"
   ]
  },
  {
   "cell_type": "code",
   "execution_count": 47,
   "metadata": {},
   "outputs": [
    {
     "name": "stdout",
     "output_type": "stream",
     "text": [
      "loss=3.9263979333244343 at epoch 0\n",
      "loss=1.401836491986309 at epoch 1000\n",
      "loss=2.172307051610692 at epoch 2000\n",
      "loss=15.230588938639649 at epoch 3000\n",
      "loss=20.110090907553182 at epoch 4000\n",
      "loss=8.133308313450149 at epoch 5000\n",
      "loss=6.108563266562525 at epoch 6000\n",
      "loss=1.1010153162544511 at epoch 7000\n",
      "loss=6.218558226003691 at epoch 8000\n",
      "loss=4.363911276157518 at epoch 9000\n",
      "loss=16.699035094965705 at epoch 10000\n",
      "MSE=6.684994121102646\n",
      "\n",
      "**BEST: K=3, alpha=0.01, beta=0.1, epochs=10000\n"
     ]
    }
   ],
   "source": [
    "tuning(K=3, alpha=0.01, beta=0.2, epochs=10000)"
   ]
  },
  {
   "cell_type": "code",
   "execution_count": 48,
   "metadata": {},
   "outputs": [
    {
     "name": "stdout",
     "output_type": "stream",
     "text": [
      "loss=20.65370930077746 at epoch 0\n",
      "loss=13.557907808948805 at epoch 10000\n",
      "loss=1.9200931722382037 at epoch 20000\n",
      "loss=0.5523371766098277 at epoch 30000\n",
      "loss=0.36144479847665495 at epoch 40000\n",
      "loss=0.6181662496180376 at epoch 50000\n",
      "loss=1.3967300146979726 at epoch 60000\n",
      "loss=0.4666551590179365 at epoch 70000\n",
      "loss=0.6841616328312088 at epoch 80000\n",
      "loss=0.3380949856912189 at epoch 90000\n",
      "loss=0.3882746082030767 at epoch 100000\n",
      "MSE=1.4637237650472976\n",
      "\n",
      "**BEST: K=3, alpha=0.01, beta=0.1, epochs=100000\n"
     ]
    }
   ],
   "source": [
    "tuning(K=3, alpha=0.01, beta=0.1, epochs=100000)"
   ]
  },
  {
   "cell_type": "code",
   "execution_count": 49,
   "metadata": {},
   "outputs": [
    {
     "name": "stdout",
     "output_type": "stream",
     "text": [
      "loss=14.939408789336378 at epoch 0\n",
      "loss=0.5435441687962376 at epoch 100000\n",
      "loss=0.9229520181251438 at epoch 200000\n",
      "loss=0.5157615612047133 at epoch 300000\n",
      "loss=0.9219926806683283 at epoch 400000\n",
      "loss=0.908467280863013 at epoch 500000\n",
      "loss=0.6323435445603771 at epoch 600000\n",
      "loss=0.41767395688197073 at epoch 700000\n",
      "loss=0.3028995105637922 at epoch 800000\n",
      "loss=1.2555465212894383 at epoch 900000\n",
      "loss=0.5473301612767625 at epoch 1000000\n",
      "MSE=0.9106088086635298\n",
      "\n",
      "**BEST: K=3, alpha=0.01, beta=0.1, epochs=1000000\n"
     ]
    }
   ],
   "source": [
    "tuning(K=3, alpha=0.01, beta=0.1, epochs=1000000)"
   ]
  },
  {
   "cell_type": "code",
   "execution_count": 50,
   "metadata": {},
   "outputs": [
    {
     "name": "stdout",
     "output_type": "stream",
     "text": [
      "loss=16.292658771757015 at epoch 0\n",
      "loss=0.3400119312549515 at epoch 100000\n",
      "loss=0.5725272016779401 at epoch 200000\n",
      "loss=0.3233054809508321 at epoch 300000\n",
      "loss=4.475839378591118 at epoch 400000\n",
      "loss=0.8651430266129487 at epoch 500000\n",
      "loss=2.9065090626654904 at epoch 600000\n",
      "loss=0.8125081511215382 at epoch 700000\n",
      "loss=0.49162732783516383 at epoch 800000\n",
      "loss=0.5526485271374608 at epoch 900000\n",
      "loss=0.9101016282485962 at epoch 1000000\n",
      "MSE=0.9734410116847462\n",
      "\n",
      "**BEST: K=3, alpha=0.01, beta=0.1, epochs=1000000\n"
     ]
    }
   ],
   "source": [
    "tuning(K=3, alpha=0.02, beta=0.1, epochs=1000000)"
   ]
  },
  {
   "cell_type": "code",
   "execution_count": 52,
   "metadata": {},
   "outputs": [
    {
     "name": "stdout",
     "output_type": "stream",
     "text": [
      "loss=5.069006559933601 at epoch 0\n",
      "loss=1.7134336410148896 at epoch 100000\n",
      "loss=2.0371705986149578 at epoch 200000\n",
      "loss=0.3879001415008183 at epoch 300000\n",
      "loss=0.301947694113473 at epoch 400000\n",
      "loss=1.397141256265204 at epoch 500000\n",
      "loss=0.6469373612927374 at epoch 600000\n",
      "loss=0.5914790543965728 at epoch 700000\n",
      "loss=0.7052344168554003 at epoch 800000\n",
      "loss=2.0542142445779676 at epoch 900000\n",
      "loss=0.6182050057750541 at epoch 1000000\n",
      "MSE=0.9102662435299986\n",
      "\n",
      "**BEST: K=3, alpha=0.005, beta=0.1, epochs=1000000\n"
     ]
    }
   ],
   "source": [
    "tuning(K=3, alpha=0.005, beta=0.1, epochs=1000000)"
   ]
  },
  {
   "cell_type": "code",
   "execution_count": 53,
   "metadata": {},
   "outputs": [
    {
     "name": "stdout",
     "output_type": "stream",
     "text": [
      "loss=0.42792786136529704 at epoch 0\n",
      "loss=1.9927681235110117 at epoch 100000\n",
      "loss=0.7004313964409024 at epoch 200000\n",
      "loss=1.4352898998728103 at epoch 300000\n",
      "loss=0.9305338637462103 at epoch 400000\n",
      "loss=3.3119819427208452 at epoch 500000\n",
      "loss=2.3350601285801176 at epoch 600000\n",
      "loss=2.039166686977345 at epoch 700000\n",
      "loss=0.8219637071807313 at epoch 800000\n",
      "loss=3.0776875673952597 at epoch 900000\n",
      "loss=0.32224528436932476 at epoch 1000000\n",
      "MSE=0.9122028982794002\n",
      "\n",
      "**BEST: K=3, alpha=0.005, beta=0.1, epochs=1000000\n"
     ]
    }
   ],
   "source": [
    "tuning(K=3, alpha=0.005, beta=0.15, epochs=1000000) "
   ]
  },
  {
   "cell_type": "code",
   "execution_count": 54,
   "metadata": {},
   "outputs": [
    {
     "name": "stdout",
     "output_type": "stream",
     "text": [
      "loss=9.180761070016406 at epoch 0\n",
      "loss=0.5150896833864249 at epoch 100000\n",
      "loss=4.196575653647486 at epoch 200000\n",
      "loss=5.455283983864686 at epoch 300000\n",
      "loss=6.8015201233578235 at epoch 400000\n",
      "loss=2.2650003081443724 at epoch 500000\n",
      "loss=0.5254069474458757 at epoch 600000\n",
      "loss=0.5438388349159091 at epoch 700000\n",
      "loss=0.6867186214213847 at epoch 800000\n",
      "loss=2.788346477514761 at epoch 900000\n",
      "loss=0.5542645095605145 at epoch 1000000\n",
      "MSE=0.8964676222741291\n",
      "\n",
      "**BEST: K=5, alpha=0.005, beta=0.1, epochs=1000000\n"
     ]
    }
   ],
   "source": [
    "tuning(K=5, alpha=0.005, beta=0.1, epochs=1000000)"
   ]
  },
  {
   "cell_type": "code",
   "execution_count": 55,
   "metadata": {},
   "outputs": [
    {
     "name": "stdout",
     "output_type": "stream",
     "text": [
      "loss=2.996787313033341 at epoch 0\n",
      "loss=0.45576305958342217 at epoch 100000\n",
      "loss=2.9914514753757695 at epoch 200000\n",
      "loss=0.35704988655731734 at epoch 300000\n",
      "loss=0.9545012383378398 at epoch 400000\n",
      "loss=1.1766381462545596 at epoch 500000\n",
      "loss=0.7975486186737125 at epoch 600000\n",
      "loss=0.6445308000848589 at epoch 700000\n",
      "loss=0.6123346618933279 at epoch 800000\n",
      "loss=1.6682663595215232 at epoch 900000\n",
      "loss=0.2994228500598527 at epoch 1000000\n",
      "MSE=0.8833474701492304\n",
      "\n",
      "**BEST: K=10, alpha=0.005, beta=0.1, epochs=1000000\n"
     ]
    }
   ],
   "source": [
    "tuning(K=10, alpha=0.005, beta=0.1, epochs=1000000)"
   ]
  },
  {
   "cell_type": "code",
   "execution_count": 57,
   "metadata": {},
   "outputs": [
    {
     "name": "stdout",
     "output_type": "stream",
     "text": [
      "loss=0.38896469670091344 at epoch 0\n",
      "loss=0.7230378235910954 at epoch 100000\n",
      "loss=6.703642783314979 at epoch 200000\n",
      "loss=0.8247628323521079 at epoch 300000\n",
      "loss=1.150052774110234 at epoch 400000\n",
      "loss=0.43304960022258887 at epoch 500000\n",
      "loss=1.067655975146721 at epoch 600000\n",
      "loss=0.5707358078545771 at epoch 700000\n",
      "loss=0.6659576889383774 at epoch 800000\n",
      "loss=0.428225254929078 at epoch 900000\n",
      "loss=0.4685736832640717 at epoch 1000000\n",
      "MSE=0.8875405184601376\n",
      "\n",
      "**BEST: K=10, alpha=0.005, beta=0.1, epochs=1000000\n"
     ]
    }
   ],
   "source": [
    "tuning(K=15, alpha=0.005, beta=0.1, epochs=1000000)"
   ]
  },
  {
   "cell_type": "code",
   "execution_count": 62,
   "metadata": {},
   "outputs": [
    {
     "name": "stdout",
     "output_type": "stream",
     "text": [
      "MSE=0.887082109099703\n"
     ]
    },
    {
     "data": {
      "text/plain": [
       "0.887082109099703"
      ]
     },
     "execution_count": 62,
     "metadata": {},
     "output_type": "execute_result"
    }
   ],
   "source": [
    "evaluateBestFromHistory(history, testRatingMatrix)"
   ]
  },
  {
   "cell_type": "code",
   "execution_count": null,
   "metadata": {},
   "outputs": [],
   "source": []
  }
 ],
 "metadata": {
  "kernelspec": {
   "display_name": "Python 3",
   "language": "python",
   "name": "python3"
  },
  "language_info": {
   "codemirror_mode": {
    "name": "ipython",
    "version": 3
   },
   "file_extension": ".py",
   "mimetype": "text/x-python",
   "name": "python",
   "nbconvert_exporter": "python",
   "pygments_lexer": "ipython3",
   "version": "3.7.1"
  }
 },
 "nbformat": 4,
 "nbformat_minor": 2
}
